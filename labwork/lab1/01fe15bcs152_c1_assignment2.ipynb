{
 "cells": [
  {
   "cell_type": "code",
   "execution_count": 1,
   "metadata": {},
   "outputs": [
    {
     "name": "stdout",
     "output_type": "stream",
     "text": [
      "Enter input size:3\n",
      "Enter x array elements:\n",
      "2\n",
      "3\n",
      "4\n",
      "Enter y array elemets:\n",
      "1\n",
      "2\n",
      "2\n",
      "[2.0, 3.0, 4.0]\n",
      "[1.0, 2.0, 2.0]\n"
     ]
    }
   ],
   "source": [
    "##read array x and y\n",
    "import tensorflow as tf\n",
    "with tf.name_scope(\"array_x\"):\n",
    "    x = list()\n",
    "    n = int(input(\"Enter input size:\"))\n",
    "    print(\"Enter x array elements:\")\n",
    "    for i in range(n):\n",
    "        x.append(float(input()))\n",
    "        \n",
    "with tf.name_scope(\"array_y\"):\n",
    "    y = list()\n",
    "    #n = int(input(\"Enter input size:\"))\n",
    "    print(\"Enter y array elemets:\")\n",
    "    for i in range(n):\n",
    "        y.append(float(input()))        \n",
    "\n",
    "\n",
    "    print(x)\n",
    "    print(y)\n",
    "    #print(mean_x)\n",
    "    #print(sess.run(mean_x))\n",
    "    #writer.close()\n",
    "\n"
   ]
  },
  {
   "cell_type": "code",
   "execution_count": 2,
   "metadata": {},
   "outputs": [
    {
     "name": "stdout",
     "output_type": "stream",
     "text": [
      "[2.0, 3.0, 4.0]\n",
      "[1.0, 2.0, 2.0]\n",
      "Mean of x:\n",
      "3.0\n",
      "Mean of y:\n",
      "1.66667\n"
     ]
    }
   ],
   "source": [
    "\n",
    "\n",
    "##mean of x and y\n",
    "with tf.name_scope(\"mean_x\"):\n",
    "    mean_x = tf.reduce_mean(x)\n",
    "with tf.name_scope(\"mean_x\"):\n",
    "    mean_y = tf.reduce_mean(y)\n",
    "sess = tf.Session()\n",
    "    #writer = tf.summary.FileWriter(\"/tmp/tboard/output12345\", sess.graph)\n",
    "print(x)\n",
    "print(y)\n",
    "print(\"Mean of x:\")\n",
    "print(sess.run(mean_x))\n",
    "print(\"Mean of y:\")\n",
    "print(sess.run(mean_y))\n",
    "    #writer.close()\n",
    "\n"
   ]
  },
  {
   "cell_type": "code",
   "execution_count": 3,
   "metadata": {},
   "outputs": [
    {
     "name": "stdout",
     "output_type": "stream",
     "text": [
      "0.666667\n"
     ]
    }
   ],
   "source": [
    "\n",
    "\n",
    "## variance of x\n",
    "with tf.name_scope(\"Variance_x\"):\n",
    "    var_x = tf.constant(0.0)\n",
    "    for i in range(n):\n",
    "        a = tf.subtract(x[i],mean_x, name=\"x_minus_mean_of_x\")\n",
    "        b = tf.square(a, name=\"square_of_x_minus_mean_of_x\")\n",
    "        var_x = tf.add(var_x,b, name=\"variance_of_x\")\n",
    "    x_var = tf.realdiv(var_x,n,name=\"var_x\")\n",
    "#with tf.Session() as sess:\n",
    "\n",
    "    #writer = tf.summary.FileWriter(\"/tmp/tboard/output12346\", sess.graph)\n",
    "print(sess.run(x_var))\n",
    "    #writer.close()\n",
    "\n"
   ]
  },
  {
   "cell_type": "code",
   "execution_count": 4,
   "metadata": {},
   "outputs": [
    {
     "name": "stdout",
     "output_type": "stream",
     "text": [
      "0.5\n"
     ]
    }
   ],
   "source": [
    "\n",
    "\n",
    "##covariance of x,y\n",
    "with tf.name_scope(\"Covariance\"):\n",
    "    covar_xy = tf.constant(0.0)\n",
    "    for i in range(n):\n",
    "        a = tf.subtract(x[i],mean_x)\n",
    "        b = tf.subtract(y[i],mean_y)\n",
    "        c = tf.multiply(a,b)\n",
    "        covar_xy = tf.add(covar_xy,c)\n",
    "    d = tf.subtract(float(n),1.0)\n",
    "    covar_xy = tf.realdiv(covar_xy,d, name=\"cov_of_xy\")\n",
    "    \n",
    "    print(sess.run(covar_xy))\n",
    "\n"
   ]
  },
  {
   "cell_type": "code",
   "execution_count": 5,
   "metadata": {},
   "outputs": [
    {
     "name": "stdout",
     "output_type": "stream",
     "text": [
      "0.75\n"
     ]
    }
   ],
   "source": [
    "## calculate slope:m\n",
    "with tf.name_scope(\"m\"):\n",
    "    m = tf.realdiv(covar_xy,x_var)\n",
    "    print(sess.run(m))"
   ]
  },
  {
   "cell_type": "code",
   "execution_count": 6,
   "metadata": {},
   "outputs": [
    {
     "name": "stdout",
     "output_type": "stream",
     "text": [
      "-0.583333\n"
     ]
    }
   ],
   "source": [
    "## calculate c\n",
    "with tf.name_scope(\"c\"):\n",
    "    mx = tf.multiply(m,mean_x)\n",
    "    c = tf.subtract(mean_y,mx, name=\"constant_c\")\n",
    "print(sess.run(c))"
   ]
  },
  {
   "cell_type": "code",
   "execution_count": 7,
   "metadata": {},
   "outputs": [
    {
     "name": "stderr",
     "output_type": "stream",
     "text": [
      "/home/ise/anaconda3/lib/python3.6/site-packages/matplotlib/font_manager.py:280: UserWarning: Matplotlib is building the font cache using fc-list. This may take a moment.\n",
      "  'Matplotlib is building the font cache using fc-list. '\n"
     ]
    },
    {
     "data": {
      "image/png": "[encoded data removed]",
      "text/plain": [
       "<matplotlib.figure.Figure at 0x7f375319e4e0>"
      ]
     },
     "metadata": {},
     "output_type": "display_data"
    }
   ],
   "source": [
    "import matplotlib.pyplot as plt\n",
    "#with tf.Session() as sess:\n",
    "plt.plot(x,y,\"ro\")\n",
    "plt.show()"
   ]
  },
  {
   "cell_type": "code",
   "execution_count": 8,
   "metadata": {},
   "outputs": [
    {
     "data": {
      "image/png": "[encoded data removed]",
      "text/plain": [
       "<matplotlib.figure.Figure at 0x7f374c30f5f8>"
      ]
     },
     "metadata": {},
     "output_type": "display_data"
    }
   ],
   "source": [
    "\n",
    "\n",
    "plt.plot(x,y)\n",
    "plt.show()\n",
    "\n"
   ]
  },
  {
   "cell_type": "code",
   "execution_count": null,
   "metadata": {
    "collapsed": true
   },
   "outputs": [],
   "source": []
  }
 ],
 "metadata": {
  "kernelspec": {
   "display_name": "Python 3",
   "language": "python",
   "name": "python3"
  },
  "language_info": {
   "codemirror_mode": {
    "name": "ipython",
    "version": 3
   },
   "file_extension": ".py",
   "mimetype": "text/x-python",
   "name": "python",
   "nbconvert_exporter": "python",
   "pygments_lexer": "ipython3",
   "version": "3.6.1"
  }
 },
 "nbformat": 4,
 "nbformat_minor": 2
}
